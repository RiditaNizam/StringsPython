{
  "nbformat": 4,
  "nbformat_minor": 0,
  "metadata": {
    "colab": {
      "name": "Strings.ipynb",
      "provenance": [],
      "collapsed_sections": [],
      "authorship_tag": "ABX9TyPBQHG7/1zvLcBg5gl/gQHJ",
      "include_colab_link": true
    },
    "kernelspec": {
      "name": "python3",
      "display_name": "Python 3"
    }
  },
  "cells": [
    {
      "cell_type": "markdown",
      "metadata": {
        "id": "view-in-github",
        "colab_type": "text"
      },
      "source": [
        "<a href=\"https://colab.research.google.com/github/RiditaNizam/StringsPython/blob/main/Strings.ipynb\" target=\"_parent\"><img src=\"https://colab.research.google.com/assets/colab-badge.svg\" alt=\"Open In Colab\"/></a>"
      ]
    },
    {
      "cell_type": "markdown",
      "metadata": {
        "id": "MBptsnefX6vG"
      },
      "source": [
        ""
      ]
    },
    {
      "cell_type": "markdown",
      "metadata": {
        "id": "BSTAdXh1YH76"
      },
      "source": [
        "Coursera\n",
        "Python Data Structures\n",
        "Week 1"
      ]
    },
    {
      "cell_type": "markdown",
      "metadata": {
        "id": "hz55q2uIX_YV"
      },
      "source": [
        "6.5 Write code using find() and string slicing (see section 6.10) to extract the number at the end of the line below. Convert the extracted value to a floating point number and print it out.\n"
      ]
    },
    {
      "cell_type": "code",
      "metadata": {
        "colab": {
          "base_uri": "https://localhost:8080/"
        },
        "id": "ZPj_zt_4YDzR",
        "outputId": "b200f4e9-37ed-4a6a-bcb0-e8d7f4a4bc52"
      },
      "source": [
        "text = \"X-DSPAM-Confidence:    0.8475\";\n",
        "start_number = text.find(\"0\")\n",
        "substring = text[start_number:]\n",
        "print(float(substring))"
      ],
      "execution_count": 1,
      "outputs": [
        {
          "output_type": "stream",
          "text": [
            "0.8475\n"
          ],
          "name": "stdout"
        }
      ]
    }
  ]
}